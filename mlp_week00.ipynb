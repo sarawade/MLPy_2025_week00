{
 "cells": [
  {
   "cell_type": "markdown",
   "metadata": {
    "cell_id": "00000-75ca9b1f-aae2-4256-8627-f9b435d743a8",
    "deepnote_cell_type": "markdown"
   },
   "source": [
    "# Machine Learning in Python - Workshop 0\n",
    "\n",
    "As with any other programming language, the best way to learn Python and its machine learning libraries \n",
    "is to play with them, so follow the steps below and ask a tutor if you get stuck.\n",
    "\n",
    "If you are reading this document then you have most likely been able to obtain and open the assignment in Jupyter on Noteable or locally (or via Colab, Deepnote, etc).\n",
    "\n",
    "Once you have reached the end of this worksheet you should try generating a PDF of the notebook. For future workshops, you will submit the pdf on Gradescope (linked on Learn).\n",
    "\n",
    "---"
   ]
  },
  {
   "cell_type": "markdown",
   "metadata": {
    "cell_id": "00001-f8196d86-a5be-4f65-bac2-f23276b5c290",
    "deepnote_cell_type": "markdown"
   },
   "source": [
    "## 1. Jupyter notebooks\n",
    "\n",
    "A **Jupyter notebook** is a literate programming tool thats allows you to combine text, typeset maths, \n",
    "images, and code (and its output) together in one document. Jupyter notebooks are edited and viewed in \n",
    "a web browser.\n",
    "\n",
    "A Jupyter notebook consists of several **cells**, which can be of 2 main types:\n",
    "* **Markdown cells**, like this one, contain text formatted using Markdown. They can be edited by \n",
    "double-clicking on them. Markdown syntax is straightforward -- you can double-click on the Markdown \n",
    "cells in this notebook to view the source text. Markdown syntax also supports LaTeX typesetting for \n",
    "maths, both inline using `$...$`, e.g. $f: \\mathbb{R}^2 \\to \\mathbb{R}$, and in display mode using \n",
    "`$$...$$`, e.g.\n",
    "\n",
    "$$ \\frac{\\partial f}{\\partial y} = 2e^{-x} \\cos(y). $$\n",
    "\n",
    "* **Code cells**, like the one below, in which we can type and run Python code interactively. They \n",
    "are indicated by `In [ ]:` on the left hand side. Note that cells will be executed in the order you \n",
    "run them (as indicated by the number in the square brackets on the left, to ensure the reproducibility \n",
    "of your document is always a good idea to clear all cells and rerun the *entire* document."
   ]
  },
  {
   "cell_type": "markdown",
   "metadata": {
    "cell_id": "00002-e37826c3-8482-42fa-a7c3-e1e2ac2051a3",
    "deepnote_cell_type": "markdown",
    "tags": []
   },
   "source": [
    "---\n",
    "\n",
    "### &diams; Exercise 1\n",
    "\n",
    "Run the code cell below, you should see the text `This is a code cell!` printed afterwards."
   ]
  },
  {
   "cell_type": "code",
   "execution_count": null,
   "metadata": {
    "cell_id": "00002-a7b5825c-bbd2-420b-a11d-082795d37081",
    "deepnote_cell_type": "code",
    "deepnote_to_be_reexecuted": false,
    "execution_millis": 0,
    "execution_start": 1610377754525,
    "output_cleared": true,
    "source_hash": "eb01f365"
   },
   "outputs": [],
   "source": [
    "print('This is a code cell!')"
   ]
  },
  {
   "cell_type": "markdown",
   "metadata": {
    "cell_id": "00004-19ee19e0-01af-4350-8fa2-844143becba2",
    "deepnote_cell_type": "markdown",
    "tags": []
   },
   "source": [
    "---\n",
    "\n",
    "### &diams; Exercise 2\n",
    "\n",
    "Below is a markdown cell, try adding some text to it and try using some markdown formatting syntax."
   ]
  },
  {
   "cell_type": "markdown",
   "metadata": {
    "cell_id": "00005-eb9c75e1-797f-41bb-b4f7-c5d846651826",
    "deepnote_cell_type": "markdown",
    "tags": []
   },
   "source": []
  },
  {
   "cell_type": "markdown",
   "metadata": {
    "cell_id": "00003-abdf6680-333f-4337-8e0a-cfb1ba498e30",
    "deepnote_cell_type": "markdown",
    "tags": []
   },
   "source": [
    "---"
   ]
  },
  {
   "cell_type": "markdown",
   "metadata": {
    "cell_id": "00004-120a3716-97ba-4c71-b429-b6b7f00dcdbc",
    "deepnote_cell_type": "markdown",
    "tags": []
   },
   "source": [
    "## 2. Checking the Python Environment\n",
    "\n",
    "First we want to make sure that we are using a current version of Python - run the cell below and \n",
    "check to make sure that the version begins with a `3`. If you are using Noteable this should \n",
    "definitely be the case. If you are running a local install of Python and Jupyter then this is very important\n",
    "to check before this week's workshop."
   ]
  },
  {
   "cell_type": "code",
   "execution_count": null,
   "metadata": {
    "cell_id": "00005-ca177332-a6b8-43ec-9df0-f3950b5cca17",
    "deepnote_cell_type": "code",
    "deepnote_to_be_reexecuted": false,
    "execution_millis": 0,
    "execution_start": 1610377906683,
    "output_cleared": true,
    "source_hash": "3c2aebfa",
    "tags": []
   },
   "outputs": [],
   "source": [
    "from platform import python_version\n",
    "print(python_version())"
   ]
  },
  {
   "cell_type": "markdown",
   "metadata": {
    "cell_id": "00006-8d496c92-eb28-4260-992d-f2d48a414636",
    "deepnote_cell_type": "markdown",
    "tags": []
   },
   "source": [
    "Now we can check that you have some of the core libraries necessary for this course installed with up-to-date \n",
    "versions. This is done by checking your installed versions versus those listed in `requirements.txt`."
   ]
  },
  {
   "cell_type": "code",
   "execution_count": null,
   "metadata": {
    "cell_id": "00010-099ada6e-42a1-4aba-a238-47dc02489332",
    "deepnote_cell_type": "code",
    "deepnote_to_be_reexecuted": false,
    "execution_millis": 0,
    "execution_start": 1610378244223,
    "output_cleared": true,
    "source_hash": "8cb9e8ee",
    "tags": []
   },
   "outputs": [],
   "source": [
    "import pkg_resources\n",
    "ok = pkg_resources.require(open('requirements.txt', mode='r'))"
   ]
  },
  {
   "cell_type": "markdown",
   "metadata": {
    "cell_id": "00008-284c413d-ed1b-46be-97b6-8113ea231d9b",
    "deepnote_cell_type": "markdown",
    "tags": []
   },
   "source": [
    "If the cell above runs without any errors or exceptions than all the needed packages are installed. If there \n",
    "is a error, check the very last line to see what if any package is missing. Any missing or outdated packages \n",
    "should be installed / updated and you can then retry running the check above. See example below to install nbconvert (which will be using the render the notebook). \n",
    "\n",
    "If you have any difficulties with any of the above checks please post to Piazza with the specific issues / \n",
    "errors you are seeing."
   ]
  },
  {
   "cell_type": "code",
   "execution_count": null,
   "metadata": {},
   "outputs": [],
   "source": [
    "# One of the packages that we will need\n",
    "#!pip install nbconvert\n",
    "\n",
    "# You can also install specific versions:\n",
    "#!pip install nbconvert==6.4.3\n",
    "# Or upgrade via:\n",
    "#!pip install --upgrade nbconvert"
   ]
  },
  {
   "cell_type": "code",
   "execution_count": null,
   "metadata": {},
   "outputs": [],
   "source": [
    "# You can check the current version of package:\n",
    "!pip show nbconvert"
   ]
  },
  {
   "cell_type": "markdown",
   "metadata": {
    "cell_id": "00010-e224adf9-f2b8-42da-a9b7-d93f063bc69c",
    "deepnote_cell_type": "markdown",
    "tags": []
   },
   "source": [
    "---"
   ]
  },
  {
   "cell_type": "markdown",
   "metadata": {
    "cell_id": "00011-7148f460-07ad-4737-982d-3592ee0a05ba",
    "deepnote_cell_type": "markdown",
    "tags": []
   },
   "source": [
    "## 3. Rendering to PDF\n",
    "\n",
    "After completing each worksheet, you will be expected to render the document to PDF and turn\n",
    "the resulting in using Gradescope. We will be using the nbconvert tool to render the notebook. \n",
    "This is accomplished by running the cell below, if everything works then `mlp-week00.pdf` should \n",
    "appear in your workshop folder. You should always try opening this file and reviewing the content to\n",
    "make sure everything looks correct (content, format, etc.).\n",
    "\n",
    "Before generating the PDF, please go to Edit -> Edit Notebook Metadata and change 'Student 1' and 'Student 2' in the **name** attribute to include your name. If you are unable to edit the notebook metadata, please add markdown cell with the names of all students in your group. \n",
    "\n",
    "![Edit Notebook Metadata](img/metadata1.png)\n",
    "\n",
    "![Changing the **name** attribute](img/metadata2.png)\n",
    "\n",
    "If you encounter an error with this step, please post to Piazza with details on the environment you are \n",
    "using and the error messages that occured."
   ]
  },
  {
   "cell_type": "code",
   "execution_count": null,
   "metadata": {
    "cell_id": "00012-459f6723-fa03-4ac7-8e38-e499d8f99bcd",
    "deepnote_cell_type": "code",
    "deepnote_to_be_reexecuted": false,
    "execution_millis": 11483,
    "execution_start": 1610378996707,
    "output_cleared": true,
    "source_hash": "c6e2dcbd",
    "tags": []
   },
   "outputs": [],
   "source": [
    "!jupyter nbconvert --to pdf mlp-week00.ipynb "
   ]
  },
  {
   "cell_type": "markdown",
   "metadata": {
    "cell_id": "00014-751c9954-936e-4c59-b55f-fafd4980c274",
    "deepnote_cell_type": "markdown",
    "tags": []
   },
   "source": [
    "Finally, note that this rendering process will contain all of the current cells and their output values - \n",
    "to ensure the reproducibility of your document it is strongly encouraged that you clear all cell output\n",
    "in your notebook and rerun everything in order.\n",
    "\n",
    "For Noteable and local Jupyter:\n",
    "\n",
    "* Select the `Kernel` menu and click `Restart & Clear Output`\n",
    "\n",
    "* Select the `Cell` menu and click `Run All`\n",
    "\n",
    "If your rendered PDF is missing some or all cell output values, make sure to save your notebook and then\n",
    "rerun the cell above."
   ]
  }
 ],
 "metadata": {
  "authors": [
   {
    "name": "Student 1"
   },
   {
    "name": "Student 2"
   }
  ],
  "deepnote_execution_queue": [],
  "deepnote_notebook_id": "44bdbecb-7702-4b22-973b-d3cf1c59a37e",
  "kernelspec": {
   "display_name": "Python 3 (ipykernel)",
   "language": "python",
   "name": "python3"
  },
  "language_info": {
   "codemirror_mode": {
    "name": "ipython",
    "version": 3
   },
   "file_extension": ".py",
   "mimetype": "text/x-python",
   "name": "python",
   "nbconvert_exporter": "python",
   "pygments_lexer": "ipython3",
   "version": "3.9.7"
  },
  "title": "MLPy Workshop 0"
 },
 "nbformat": 4,
 "nbformat_minor": 4
}
